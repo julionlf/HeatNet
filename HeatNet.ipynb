{
  "cells": [
    {
      "cell_type": "markdown",
      "metadata": {
        "id": "ocnVabEsrHOr"
      },
      "source": [
        "## **Surrogate Modeling of Diffusion Equation Solutions**"
      ]
    },
    {
      "cell_type": "code",
      "execution_count": 12,
      "metadata": {
        "id": "X8ZQYcBVid-D"
      },
      "outputs": [],
      "source": [
        "# Import Libraries\n",
        "import numpy as np\n",
        "import pandas as pd\n",
        "import tensorflow as tf\n",
        "from tensorflow.keras.layers import Dense\n",
        "from tensorflow.keras.layers import Dropout\n",
        "from sklearn.preprocessing import MinMaxScaler\n",
        "from sklearn.model_selection import train_test_split\n",
        "from matplotlib import pyplot as plt"
      ]
    },
    {
      "cell_type": "markdown",
      "metadata": {
        "id": "Zu30r4vtrRjD"
      },
      "source": [
        "### **Import Data**"
      ]
    },
    {
      "cell_type": "code",
      "execution_count": 13,
      "metadata": {
        "colab": {
          "base_uri": "https://localhost:8080/",
          "height": 206
        },
        "id": "JP0SND-TkJqc",
        "outputId": "1bc13153-4aa0-4c51-c619-1bebd5186353"
      },
      "outputs": [
        {
          "data": {
            "text/html": [
              "<div>\n",
              "<style scoped>\n",
              "    .dataframe tbody tr th:only-of-type {\n",
              "        vertical-align: middle;\n",
              "    }\n",
              "\n",
              "    .dataframe tbody tr th {\n",
              "        vertical-align: top;\n",
              "    }\n",
              "\n",
              "    .dataframe thead th {\n",
              "        text-align: right;\n",
              "    }\n",
              "</style>\n",
              "<table border=\"1\" class=\"dataframe\">\n",
              "  <thead>\n",
              "    <tr style=\"text-align: right;\">\n",
              "      <th></th>\n",
              "      <th>0</th>\n",
              "      <th>1</th>\n",
              "      <th>2</th>\n",
              "      <th>3</th>\n",
              "    </tr>\n",
              "  </thead>\n",
              "  <tbody>\n",
              "    <tr>\n",
              "      <th>0</th>\n",
              "      <td>65.531</td>\n",
              "      <td>29.46400</td>\n",
              "      <td>79.9890</td>\n",
              "      <td>45.6370</td>\n",
              "    </tr>\n",
              "    <tr>\n",
              "      <th>1</th>\n",
              "      <td>50.511</td>\n",
              "      <td>10.19500</td>\n",
              "      <td>1.4267</td>\n",
              "      <td>85.4360</td>\n",
              "    </tr>\n",
              "    <tr>\n",
              "      <th>2</th>\n",
              "      <td>46.943</td>\n",
              "      <td>0.77441</td>\n",
              "      <td>86.7170</td>\n",
              "      <td>4.6934</td>\n",
              "    </tr>\n",
              "    <tr>\n",
              "      <th>3</th>\n",
              "      <td>46.061</td>\n",
              "      <td>59.53600</td>\n",
              "      <td>40.2500</td>\n",
              "      <td>52.9970</td>\n",
              "    </tr>\n",
              "    <tr>\n",
              "      <th>4</th>\n",
              "      <td>13.048</td>\n",
              "      <td>6.20750</td>\n",
              "      <td>18.4450</td>\n",
              "      <td>47.4490</td>\n",
              "    </tr>\n",
              "  </tbody>\n",
              "</table>\n",
              "</div>"
            ],
            "text/plain": [
              "        0         1        2        3\n",
              "0  65.531  29.46400  79.9890  45.6370\n",
              "1  50.511  10.19500   1.4267  85.4360\n",
              "2  46.943   0.77441  86.7170   4.6934\n",
              "3  46.061  59.53600  40.2500  52.9970\n",
              "4  13.048   6.20750  18.4450  47.4490"
            ]
          },
          "execution_count": 13,
          "metadata": {},
          "output_type": "execute_result"
        }
      ],
      "source": [
        "# Import Input Data\n",
        "datain = pd.read_csv('inputs.csv',header=None)\n",
        "datain.head()"
      ]
    },
    {
      "cell_type": "code",
      "execution_count": 14,
      "metadata": {
        "colab": {
          "base_uri": "https://localhost:8080/",
          "height": 299
        },
        "id": "qwOgd_jnkQpr",
        "outputId": "13702c04-d689-448a-e1f7-87d3a56085ba"
      },
      "outputs": [
        {
          "data": {
            "text/html": [
              "<div>\n",
              "<style scoped>\n",
              "    .dataframe tbody tr th:only-of-type {\n",
              "        vertical-align: middle;\n",
              "    }\n",
              "\n",
              "    .dataframe tbody tr th {\n",
              "        vertical-align: top;\n",
              "    }\n",
              "\n",
              "    .dataframe thead th {\n",
              "        text-align: right;\n",
              "    }\n",
              "</style>\n",
              "<table border=\"1\" class=\"dataframe\">\n",
              "  <thead>\n",
              "    <tr style=\"text-align: right;\">\n",
              "      <th></th>\n",
              "      <th>0</th>\n",
              "      <th>1</th>\n",
              "      <th>2</th>\n",
              "      <th>3</th>\n",
              "      <th>4</th>\n",
              "      <th>5</th>\n",
              "      <th>6</th>\n",
              "      <th>7</th>\n",
              "      <th>8</th>\n",
              "      <th>9</th>\n",
              "      <th>...</th>\n",
              "      <th>2490</th>\n",
              "      <th>2491</th>\n",
              "      <th>2492</th>\n",
              "      <th>2493</th>\n",
              "      <th>2494</th>\n",
              "      <th>2495</th>\n",
              "      <th>2496</th>\n",
              "      <th>2497</th>\n",
              "      <th>2498</th>\n",
              "      <th>2499</th>\n",
              "    </tr>\n",
              "  </thead>\n",
              "  <tbody>\n",
              "    <tr>\n",
              "      <th>0</th>\n",
              "      <td>72.758</td>\n",
              "      <td>77.7550</td>\n",
              "      <td>78.8690</td>\n",
              "      <td>79.2340</td>\n",
              "      <td>79.4030</td>\n",
              "      <td>79.5000</td>\n",
              "      <td>79.5630</td>\n",
              "      <td>79.605</td>\n",
              "      <td>79.6350</td>\n",
              "      <td>79.6560</td>\n",
              "      <td>...</td>\n",
              "      <td>36.5100</td>\n",
              "      <td>36.5100</td>\n",
              "      <td>36.5100</td>\n",
              "      <td>36.5100</td>\n",
              "      <td>36.5100</td>\n",
              "      <td>36.5090</td>\n",
              "      <td>36.501</td>\n",
              "      <td>36.449</td>\n",
              "      <td>36.0930</td>\n",
              "      <td>33.6500</td>\n",
              "    </tr>\n",
              "    <tr>\n",
              "      <th>1</th>\n",
              "      <td>25.969</td>\n",
              "      <td>8.9758</td>\n",
              "      <td>5.1663</td>\n",
              "      <td>3.9013</td>\n",
              "      <td>3.2983</td>\n",
              "      <td>2.9402</td>\n",
              "      <td>2.7008</td>\n",
              "      <td>2.529</td>\n",
              "      <td>2.3999</td>\n",
              "      <td>2.2993</td>\n",
              "      <td>...</td>\n",
              "      <td>68.3490</td>\n",
              "      <td>68.3490</td>\n",
              "      <td>68.3490</td>\n",
              "      <td>68.3480</td>\n",
              "      <td>68.3470</td>\n",
              "      <td>68.3380</td>\n",
              "      <td>68.275</td>\n",
              "      <td>67.846</td>\n",
              "      <td>64.9050</td>\n",
              "      <td>44.7430</td>\n",
              "    </tr>\n",
              "    <tr>\n",
              "      <th>2</th>\n",
              "      <td>66.826</td>\n",
              "      <td>80.5850</td>\n",
              "      <td>83.6600</td>\n",
              "      <td>84.6730</td>\n",
              "      <td>85.1490</td>\n",
              "      <td>85.4270</td>\n",
              "      <td>85.6090</td>\n",
              "      <td>85.735</td>\n",
              "      <td>85.8270</td>\n",
              "      <td>85.8950</td>\n",
              "      <td>...</td>\n",
              "      <td>3.7547</td>\n",
              "      <td>3.7547</td>\n",
              "      <td>3.7547</td>\n",
              "      <td>3.7547</td>\n",
              "      <td>3.7546</td>\n",
              "      <td>3.7542</td>\n",
              "      <td>3.751</td>\n",
              "      <td>3.729</td>\n",
              "      <td>3.5782</td>\n",
              "      <td>2.5449</td>\n",
              "    </tr>\n",
              "    <tr>\n",
              "      <th>3</th>\n",
              "      <td>43.156</td>\n",
              "      <td>41.1450</td>\n",
              "      <td>40.6950</td>\n",
              "      <td>40.5470</td>\n",
              "      <td>40.4770</td>\n",
              "      <td>40.4360</td>\n",
              "      <td>40.4090</td>\n",
              "      <td>40.391</td>\n",
              "      <td>40.3770</td>\n",
              "      <td>40.3670</td>\n",
              "      <td>...</td>\n",
              "      <td>42.3970</td>\n",
              "      <td>42.3970</td>\n",
              "      <td>42.3970</td>\n",
              "      <td>42.3970</td>\n",
              "      <td>42.3980</td>\n",
              "      <td>42.4010</td>\n",
              "      <td>42.419</td>\n",
              "      <td>42.545</td>\n",
              "      <td>43.4120</td>\n",
              "      <td>49.3540</td>\n",
              "    </tr>\n",
              "    <tr>\n",
              "      <th>4</th>\n",
              "      <td>15.747</td>\n",
              "      <td>17.6170</td>\n",
              "      <td>18.0380</td>\n",
              "      <td>18.1780</td>\n",
              "      <td>18.2460</td>\n",
              "      <td>18.2870</td>\n",
              "      <td>18.3150</td>\n",
              "      <td>18.335</td>\n",
              "      <td>18.3510</td>\n",
              "      <td>18.3630</td>\n",
              "      <td>...</td>\n",
              "      <td>37.9590</td>\n",
              "      <td>37.9590</td>\n",
              "      <td>37.9590</td>\n",
              "      <td>37.9590</td>\n",
              "      <td>37.9580</td>\n",
              "      <td>37.9530</td>\n",
              "      <td>37.919</td>\n",
              "      <td>37.685</td>\n",
              "      <td>36.0790</td>\n",
              "      <td>25.0700</td>\n",
              "    </tr>\n",
              "  </tbody>\n",
              "</table>\n",
              "<p>5 rows × 2500 columns</p>\n",
              "</div>"
            ],
            "text/plain": [
              "     0        1        2        3        4        5        6       7     \\\n",
              "0  72.758  77.7550  78.8690  79.2340  79.4030  79.5000  79.5630  79.605   \n",
              "1  25.969   8.9758   5.1663   3.9013   3.2983   2.9402   2.7008   2.529   \n",
              "2  66.826  80.5850  83.6600  84.6730  85.1490  85.4270  85.6090  85.735   \n",
              "3  43.156  41.1450  40.6950  40.5470  40.4770  40.4360  40.4090  40.391   \n",
              "4  15.747  17.6170  18.0380  18.1780  18.2460  18.2870  18.3150  18.335   \n",
              "\n",
              "      8        9     ...     2490     2491     2492     2493     2494  \\\n",
              "0  79.6350  79.6560  ...  36.5100  36.5100  36.5100  36.5100  36.5100   \n",
              "1   2.3999   2.2993  ...  68.3490  68.3490  68.3490  68.3480  68.3470   \n",
              "2  85.8270  85.8950  ...   3.7547   3.7547   3.7547   3.7547   3.7546   \n",
              "3  40.3770  40.3670  ...  42.3970  42.3970  42.3970  42.3970  42.3980   \n",
              "4  18.3510  18.3630  ...  37.9590  37.9590  37.9590  37.9590  37.9580   \n",
              "\n",
              "      2495    2496    2497     2498     2499  \n",
              "0  36.5090  36.501  36.449  36.0930  33.6500  \n",
              "1  68.3380  68.275  67.846  64.9050  44.7430  \n",
              "2   3.7542   3.751   3.729   3.5782   2.5449  \n",
              "3  42.4010  42.419  42.545  43.4120  49.3540  \n",
              "4  37.9530  37.919  37.685  36.0790  25.0700  \n",
              "\n",
              "[5 rows x 2500 columns]"
            ]
          },
          "execution_count": 14,
          "metadata": {},
          "output_type": "execute_result"
        }
      ],
      "source": [
        "# Import Output Data\n",
        "dataou = pd.read_csv('U.csv',header=None)\n",
        "dataou.head()"
      ]
    },
    {
      "cell_type": "markdown",
      "metadata": {
        "id": "gfOrRH0Cq1gK"
      },
      "source": [
        "### **Data Splitting**"
      ]
    },
    {
      "cell_type": "code",
      "execution_count": 15,
      "metadata": {
        "id": "IB8CUbxTlAWT"
      },
      "outputs": [],
      "source": [
        "# Create train-test splits\n",
        "datain_train, datain_test, dataou_train, dataou_test = train_test_split(datain,dataou,test_size=0.3,random_state=42)"
      ]
    },
    {
      "cell_type": "markdown",
      "metadata": {
        "id": "LkNpUMFZqsJL"
      },
      "source": [
        "### **Data Scaling**"
      ]
    },
    {
      "cell_type": "code",
      "execution_count": 16,
      "metadata": {
        "id": "ECtxUl4vncFs"
      },
      "outputs": [],
      "source": [
        "# Create scalers\n",
        "scalerin = MinMaxScaler(feature_range=(0,1))\n",
        "scalerou = MinMaxScaler(feature_range=(0,1))\n",
        "\n",
        "# Fit Scalers to data\n",
        "scalerin.fit(datain)\n",
        "scalerou.fit(dataou)\n",
        "\n",
        "# Scale the datasets\n",
        "datain_train_sc = scalerin.transform(datain_train)\n",
        "datain_test_sc = scalerin.transform(datain_test)\n",
        "dataou_train_sc = scalerou.transform(dataou_train)\n",
        "dataou_test_sc = scalerou.transform(dataou_test)"
      ]
    },
    {
      "cell_type": "markdown",
      "metadata": {
        "id": "9cVIpKAlrYBi"
      },
      "source": [
        "### **Create Model**"
      ]
    },
    {
      "cell_type": "code",
      "execution_count": 17,
      "metadata": {
        "colab": {
          "base_uri": "https://localhost:8080/"
        },
        "id": "XI0oWaVmolFr",
        "outputId": "b0abdf3e-169a-477d-a084-5d6faa3507d9"
      },
      "outputs": [
        {
          "name": "stdout",
          "output_type": "stream",
          "text": [
            "Model: \"sequential_1\"\n",
            "_________________________________________________________________\n",
            "Layer (type)                 Output Shape              Param #   \n",
            "=================================================================\n",
            "dense_2 (Dense)              (None, 15000)             75000     \n",
            "_________________________________________________________________\n",
            "dropout_1 (Dropout)          (None, 15000)             0         \n",
            "_________________________________________________________________\n",
            "dense_3 (Dense)              (None, 2500)              37502500  \n",
            "=================================================================\n",
            "Total params: 37,577,500\n",
            "Trainable params: 37,577,500\n",
            "Non-trainable params: 0\n",
            "_________________________________________________________________\n",
            "Epoch 1/50\n",
            "14/14 [==============================] - 1s 23ms/step - loss: 0.0998 - val_loss: 0.0295\n",
            "Epoch 2/50\n",
            "14/14 [==============================] - 0s 9ms/step - loss: 0.0278 - val_loss: 0.0124\n",
            "Epoch 3/50\n",
            "14/14 [==============================] - 0s 9ms/step - loss: 0.0057 - val_loss: 0.0019\n",
            "Epoch 4/50\n",
            "14/14 [==============================] - 0s 9ms/step - loss: 0.0020 - val_loss: 7.3180e-04\n",
            "Epoch 5/50\n",
            "14/14 [==============================] - 0s 9ms/step - loss: 9.8635e-04 - val_loss: 2.0198e-04\n",
            "Epoch 6/50\n",
            "14/14 [==============================] - 0s 9ms/step - loss: 6.9660e-04 - val_loss: 1.0442e-04\n",
            "Epoch 7/50\n",
            "14/14 [==============================] - 0s 9ms/step - loss: 6.1665e-04 - val_loss: 5.9152e-05\n",
            "Epoch 8/50\n",
            "14/14 [==============================] - 0s 8ms/step - loss: 5.8110e-04 - val_loss: 8.3240e-05\n",
            "Epoch 9/50\n",
            "14/14 [==============================] - 0s 8ms/step - loss: 5.8131e-04 - val_loss: 5.9113e-05\n",
            "Epoch 10/50\n",
            "14/14 [==============================] - 0s 9ms/step - loss: 5.4857e-04 - val_loss: 1.2587e-04\n",
            "Epoch 11/50\n",
            "14/14 [==============================] - 0s 9ms/step - loss: 5.7833e-04 - val_loss: 6.2980e-05\n",
            "Epoch 12/50\n",
            "14/14 [==============================] - 0s 8ms/step - loss: 5.1303e-04 - val_loss: 5.6701e-05\n",
            "Epoch 13/50\n",
            "14/14 [==============================] - 0s 8ms/step - loss: 5.0660e-04 - val_loss: 5.7593e-05\n",
            "Epoch 14/50\n",
            "14/14 [==============================] - 0s 8ms/step - loss: 5.0107e-04 - val_loss: 5.9887e-05\n",
            "Epoch 15/50\n",
            "14/14 [==============================] - 0s 8ms/step - loss: 4.7167e-04 - val_loss: 5.4192e-05\n",
            "Epoch 16/50\n",
            "14/14 [==============================] - 0s 8ms/step - loss: 4.7152e-04 - val_loss: 5.7450e-05\n",
            "Epoch 17/50\n",
            "14/14 [==============================] - 0s 8ms/step - loss: 4.5314e-04 - val_loss: 5.5085e-05\n",
            "Epoch 18/50\n",
            "14/14 [==============================] - 0s 8ms/step - loss: 4.4856e-04 - val_loss: 8.3687e-05\n",
            "Epoch 19/50\n",
            "14/14 [==============================] - 0s 9ms/step - loss: 4.4430e-04 - val_loss: 5.0539e-05\n",
            "Epoch 20/50\n",
            "14/14 [==============================] - 0s 8ms/step - loss: 4.4684e-04 - val_loss: 7.4118e-05\n",
            "Epoch 21/50\n",
            "14/14 [==============================] - 0s 8ms/step - loss: 4.3910e-04 - val_loss: 5.0781e-05\n",
            "Epoch 22/50\n",
            "14/14 [==============================] - 0s 8ms/step - loss: 4.1661e-04 - val_loss: 7.0328e-05\n",
            "Epoch 23/50\n",
            "14/14 [==============================] - 0s 8ms/step - loss: 4.2623e-04 - val_loss: 5.6935e-05\n",
            "Epoch 24/50\n",
            "14/14 [==============================] - 0s 8ms/step - loss: 4.2577e-04 - val_loss: 7.0551e-05\n",
            "Epoch 25/50\n",
            "14/14 [==============================] - 0s 8ms/step - loss: 4.0961e-04 - val_loss: 6.8705e-05\n",
            "Epoch 26/50\n",
            "14/14 [==============================] - 0s 8ms/step - loss: 4.1251e-04 - val_loss: 1.0922e-04\n",
            "Epoch 27/50\n",
            "14/14 [==============================] - 0s 9ms/step - loss: 3.9410e-04 - val_loss: 6.2509e-05\n",
            "Epoch 28/50\n",
            "14/14 [==============================] - 0s 9ms/step - loss: 4.0457e-04 - val_loss: 4.1941e-05\n",
            "Epoch 29/50\n",
            "14/14 [==============================] - 0s 8ms/step - loss: 3.7636e-04 - val_loss: 5.8430e-05\n",
            "Epoch 30/50\n",
            "14/14 [==============================] - 0s 9ms/step - loss: 3.7628e-04 - val_loss: 5.7623e-05\n",
            "Epoch 31/50\n",
            "14/14 [==============================] - 0s 9ms/step - loss: 3.6164e-04 - val_loss: 3.9495e-05\n",
            "Epoch 32/50\n",
            "14/14 [==============================] - 0s 8ms/step - loss: 4.2366e-04 - val_loss: 1.4003e-04\n",
            "Epoch 33/50\n",
            "14/14 [==============================] - 0s 8ms/step - loss: 4.2641e-04 - val_loss: 5.7006e-05\n",
            "Epoch 34/50\n",
            "14/14 [==============================] - 0s 8ms/step - loss: 4.2847e-04 - val_loss: 1.7268e-04\n",
            "Epoch 35/50\n",
            "14/14 [==============================] - 0s 8ms/step - loss: 3.9182e-04 - val_loss: 4.5635e-05\n",
            "Epoch 36/50\n",
            "14/14 [==============================] - 0s 9ms/step - loss: 3.8873e-04 - val_loss: 1.7641e-04\n",
            "Epoch 37/50\n",
            "14/14 [==============================] - 0s 9ms/step - loss: 3.8473e-04 - val_loss: 8.2053e-05\n",
            "Epoch 38/50\n",
            "14/14 [==============================] - 0s 8ms/step - loss: 3.6568e-04 - val_loss: 3.7757e-05\n",
            "Epoch 39/50\n",
            "14/14 [==============================] - 0s 9ms/step - loss: 3.4777e-04 - val_loss: 3.0872e-05\n",
            "Epoch 40/50\n",
            "14/14 [==============================] - 0s 8ms/step - loss: 3.3088e-04 - val_loss: 5.9401e-05\n",
            "Epoch 41/50\n",
            "14/14 [==============================] - 0s 8ms/step - loss: 3.3233e-04 - val_loss: 3.3343e-05\n",
            "Epoch 42/50\n",
            "14/14 [==============================] - 0s 8ms/step - loss: 3.5140e-04 - val_loss: 7.9277e-05\n",
            "Epoch 43/50\n",
            "14/14 [==============================] - 0s 8ms/step - loss: 3.4899e-04 - val_loss: 4.9905e-05\n",
            "Epoch 44/50\n",
            "14/14 [==============================] - 0s 9ms/step - loss: 3.0715e-04 - val_loss: 6.7297e-05\n",
            "Epoch 45/50\n",
            "14/14 [==============================] - 0s 8ms/step - loss: 3.2551e-04 - val_loss: 4.2717e-05\n",
            "Epoch 46/50\n",
            "14/14 [==============================] - 0s 8ms/step - loss: 3.4238e-04 - val_loss: 3.4535e-05\n",
            "Epoch 47/50\n",
            "14/14 [==============================] - 0s 9ms/step - loss: 3.4355e-04 - val_loss: 1.1980e-04\n",
            "Epoch 48/50\n",
            "14/14 [==============================] - 0s 8ms/step - loss: 3.2177e-04 - val_loss: 3.8470e-05\n",
            "Epoch 49/50\n",
            "14/14 [==============================] - 0s 8ms/step - loss: 3.5062e-04 - val_loss: 7.7078e-05\n",
            "Epoch 50/50\n",
            "14/14 [==============================] - 0s 8ms/step - loss: 3.3016e-04 - val_loss: 1.3265e-04\n"
          ]
        }
      ],
      "source": [
        "# Define layers\n",
        "hidden_layers = [2500*6]\n",
        "\n",
        "# Define Model\n",
        "model = tf.keras.models.Sequential()\n",
        "\n",
        "# Add Input Layer and First Hidden Layer\n",
        "model.add(Dense(hidden_layers[0],activation='relu',input_dim=4))\n",
        "model.add(Dropout(rate=0.5))\n",
        "\n",
        "# Add Output layer\n",
        "model.add(Dense(2500,activation='linear'))\n",
        "\n",
        "# Compile Model\n",
        "model.compile(optimizer='adam',loss='mean_squared_error')\n",
        "\n",
        "# Model Summary\n",
        "model.summary()\n",
        "\n",
        "# Fit Model\n",
        "model_fit = model.fit(datain_train_sc,dataou_train_sc,epochs=50,batch_size=16,verbose=1,shuffle=True,validation_split=0.05)"
      ]
    },
    {
      "cell_type": "code",
      "execution_count": 18,
      "metadata": {
        "colab": {
          "base_uri": "https://localhost:8080/"
        },
        "id": "LsyVkUqjrvsi",
        "outputId": "e81df20d-cbc3-4a39-e41c-72374a3b8d28"
      },
      "outputs": [],
      "source": [
        "# Compute model predictions\n",
        "dataes_train_sc = model.predict(datain_train_sc)\n",
        "dataes_test_sc = model.predict(datain_test_sc)"
      ]
    },
    {
      "cell_type": "code",
      "execution_count": 19,
      "metadata": {
        "id": "jHfpIBw_0MHK"
      },
      "outputs": [],
      "source": [
        "# Scale back data\n",
        "dataes_train = scalerou.inverse_transform(dataes_train_sc)\n",
        "dataes_test = scalerou.inverse_transform(dataes_test_sc)"
      ]
    },
    {
      "cell_type": "markdown",
      "metadata": {
        "id": "nFzD8vBU08fz"
      },
      "source": [
        "### **Visualize**"
      ]
    },
    {
      "cell_type": "code",
      "execution_count": 20,
      "metadata": {
        "colab": {
          "base_uri": "https://localhost:8080/",
          "height": 265
        },
        "id": "8gNyT9uQvr6q",
        "outputId": "2062385f-878f-4fdf-8003-4f96b141f508"
      },
      "outputs": [
        {
          "data": {
            "image/png": "[encoded data removed]",
            "text/plain": [
              "<Figure size 432x288 with 1 Axes>"
            ]
          },
          "metadata": {
            "needs_background": "light"
          },
          "output_type": "display_data"
        }
      ],
      "source": [
        "# Check model predictions against training data\n",
        "plt.plot(dataou_train_sc,dataes_train_sc,'.')\n",
        "plt.plot([0,1],[0,1]);"
      ]
    },
    {
      "cell_type": "code",
      "execution_count": 21,
      "metadata": {
        "colab": {
          "base_uri": "https://localhost:8080/",
          "height": 265
        },
        "id": "JKusPxYVwH3b",
        "outputId": "fd44cec3-186c-49f5-ea62-a63472918f11"
      },
      "outputs": [
        {
          "data": {
            "image/png": "[encoded data removed]",
            "text/plain": [
              "<Figure size 432x288 with 1 Axes>"
            ]
          },
          "metadata": {
            "needs_background": "light"
          },
          "output_type": "display_data"
        }
      ],
      "source": [
        "# Check model predictions against training data\n",
        "plt.plot(dataou_test_sc,dataes_test_sc,'.')\n",
        "plt.plot([0,1],[0,1]);"
      ]
    },
    {
      "cell_type": "code",
      "execution_count": 22,
      "metadata": {
        "colab": {
          "base_uri": "https://localhost:8080/",
          "height": 267
        },
        "id": "Hg2d34TCwXdx",
        "outputId": "42f558f7-4209-4828-cc49-b1ab837a5958"
      },
      "outputs": [
        {
          "data": {
            "image/png": "[encoded data removed]",
            "text/plain": [
              "<Figure size 432x288 with 1 Axes>"
            ]
          },
          "metadata": {
            "needs_background": "light"
          },
          "output_type": "display_data"
        }
      ],
      "source": [
        "# Check loss and validation loss\n",
        "plt.plot(np.log(model_fit.history['loss']),'--');\n",
        "plt.plot(np.log(model_fit.history['val_loss']),'--');"
      ]
    },
    {
      "cell_type": "markdown",
      "metadata": {
        "id": "oMuaWlqs1C3B"
      },
      "source": [
        "### **Export Data**"
      ]
    },
    {
      "cell_type": "code",
      "execution_count": 23,
      "metadata": {
        "id": "LnBQ-tPkwu1S"
      },
      "outputs": [],
      "source": [
        "# Convert scaled output\n",
        "dataes_train_pd = pd.DataFrame(dataes_train)\n",
        "dataes_test_pd = pd.DataFrame(dataes_test)\n",
        "\n",
        "# Export Input Data\n",
        "datain_train.to_csv('datain_train.csv')\n",
        "datain_test.to_csv('datain_test.csv')\n",
        "\n",
        "# Export Output Data\n",
        "dataes_train_pd.to_csv('dataes_train.csv')\n",
        "dataes_test_pd.to_csv('dataes_test.csv')"
      ]
    }
  ],
  "metadata": {
    "colab": {
      "provenance": []
    },
    "kernelspec": {
      "display_name": "tf_v2_6_gpu",
      "language": "python",
      "name": "tf_v2_6_gpu"
    },
    "language_info": {
      "codemirror_mode": {
        "name": "ipython",
        "version": 3
      },
      "file_extension": ".py",
      "mimetype": "text/x-python",
      "name": "python",
      "nbconvert_exporter": "python",
      "pygments_lexer": "ipython3",
      "version": "3.8.8 (default, Apr 13 2021, 15:08:03) [MSC v.1916 64 bit (AMD64)]"
    },
    "vscode": {
      "interpreter": {
        "hash": "d201d71fd19556aa3c3838812ebe9cc683a71354f65c574d9e82ae20472e8c9f"
      }
    }
  },
  "nbformat": 4,
  "nbformat_minor": 0
}
